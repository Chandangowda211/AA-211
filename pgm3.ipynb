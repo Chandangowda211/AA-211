{
 "cells": [
  {
   "cell_type": "code",
   "execution_count": 1,
   "id": "fc0af98d",
   "metadata": {},
   "outputs": [
    {
     "name": "stdout",
     "output_type": "stream",
     "text": [
      "\n",
      " Enter a number n: 3\n",
      "\n",
      " Binary equivalent of 2 is:     1     0 \n",
      " i=1, bi=1, c=1, d=2\n",
      "\n",
      " i=0, bi=0, c=2, d=1\n",
      "\n",
      " 3 is prime!!!\n",
      "\n"
     ]
    }
   ],
   "source": [
    "def modular_exponentiation(a, b, n): \n",
    "    c = 0 \n",
    "    d = 1 \n",
    "    bin_repr = [] \n",
    "    k = binary(b, bin_repr) \n",
    "    for i in range(k, -1, -1): \n",
    "        c = 2 * c \n",
    "        d = (d * d) % n \n",
    "        if bin_repr[i] == 1: \n",
    "            c += 1 \n",
    "            d = (d * a) % n \n",
    "        print(f\"\\n i={i}, bi={bin_repr[i]}, c={c}, d={d}\") \n",
    "    return d \n",
    " \n",
    "def binary(b, bin_repr): \n",
    "    n = b \n",
    "    k = 0 \n",
    "    while b != 0: \n",
    "        bin_repr.append(b % 2) \n",
    "        k += 1 \n",
    "        b //= 2 \n",
    "    k -= 1 \n",
    "    print(f\"\\n Binary equivalent of {n} is:\", end=' ') \n",
    "    for i in range(k, -1, -1): \n",
    "        print(f\"{bin_repr[i]:5d}\", end=' ') \n",
    "    return k\n",
    "\n",
    "if __name__ == \"__main__\": \n",
    "    n = int(input(\"\\n Enter a number n: \")) \n",
    "    if n <= 0: \n",
    "        print(\"\\n Please enter a positive number!!!\\n\\n\") \n",
    "        exit(0) \n",
    "    res = modular_exponentiation(2, n - 1, n) \n",
    "    if n == 1: \n",
    "        print(f\"\\n {n} is prime!!!\\n\\n\") \n",
    "    elif (res % n) == 1: \n",
    "        print(f\"\\n {n} is prime!!!\\n\") \n",
    "    else: \n",
    "        print(f\"\\n {n} is not prime!!!\\n\") "
   ]
  },
  {
   "cell_type": "code",
   "execution_count": null,
   "id": "6cea4d26",
   "metadata": {},
   "outputs": [],
   "source": []
  }
 ],
 "metadata": {
  "kernelspec": {
   "display_name": "Python 3 (ipykernel)",
   "language": "python",
   "name": "python3"
  },
  "language_info": {
   "codemirror_mode": {
    "name": "ipython",
    "version": 3
   },
   "file_extension": ".py",
   "mimetype": "text/x-python",
   "name": "python",
   "nbconvert_exporter": "python",
   "pygments_lexer": "ipython3",
   "version": "3.11.3"
  }
 },
 "nbformat": 4,
 "nbformat_minor": 5
}
