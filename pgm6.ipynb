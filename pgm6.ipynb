{
 "cells": [
  {
   "cell_type": "code",
   "execution_count": 2,
   "id": "0af8c245",
   "metadata": {},
   "outputs": [
    {
     "name": "stdout",
     "output_type": "stream",
     "text": [
      "Pattern found at index 0\n",
      "Pattern found at index 10\n"
     ]
    }
   ],
   "source": [
    "import math \n",
    "def search(pat, txt, q): \n",
    "    M = len(pat) \n",
    "    N = len(txt) \n",
    "    p = 0 \n",
    "    t = 0 \n",
    "    h = 1 \n",
    "    for i in range(M-1): \n",
    "        h = (h*d) % q \n",
    "    for i in range(M): \n",
    "        p = (d*p + ord(pat[i])) % q \n",
    "        t = (d*t + ord(txt[i])) % q \n",
    "    for i in range(N-M+1): \n",
    "        if p == t: \n",
    "            if all(txt[i+j] == pat[j] for j in range(M)): \n",
    "                print(\"Pattern found at index\", i) \n",
    "        if i < N-M: \n",
    "            t = (d*(t-ord(txt[i])*h) + ord(txt[i+M])) % q \n",
    "            if t < 0: \n",
    "                t = (t + q) \n",
    "d = 256 \n",
    "txt = \"GEEKS FOR GEEKS\" \n",
    "pat = \"GEEK\" \n",
    "q = 101 \n",
    "search(pat, txt, q)"
   ]
  },
  {
   "cell_type": "code",
   "execution_count": null,
   "id": "5c0779e4",
   "metadata": {},
   "outputs": [],
   "source": []
  }
 ],
 "metadata": {
  "kernelspec": {
   "display_name": "Python 3 (ipykernel)",
   "language": "python",
   "name": "python3"
  },
  "language_info": {
   "codemirror_mode": {
    "name": "ipython",
    "version": 3
   },
   "file_extension": ".py",
   "mimetype": "text/x-python",
   "name": "python",
   "nbconvert_exporter": "python",
   "pygments_lexer": "ipython3",
   "version": "3.11.3"
  }
 },
 "nbformat": 4,
 "nbformat_minor": 5
}
