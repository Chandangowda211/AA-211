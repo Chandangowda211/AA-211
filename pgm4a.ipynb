{
 "cells": [
  {
   "cell_type": "code",
   "execution_count": 1,
   "id": "8104a621",
   "metadata": {},
   "outputs": [
    {
     "name": "stdout",
     "output_type": "stream",
     "text": [
      "\n",
      " enter the text: arunan\n",
      "\n",
      " text is: arunan\n",
      "\n",
      " enter the pattern: an\n",
      "\n",
      " pattern is: an\n",
      "\n",
      " left most occurrence of pattern in text is at position: 5\n"
     ]
    }
   ],
   "source": [
    "def naive_string(p, t): \n",
    "    n = len(t) \n",
    "    m = len(p) \n",
    "    for i in range(n - m + 1): \n",
    "        j = 0 \n",
    "        while j < m and p[j] == t[i + j]: \n",
    "            j += 1 \n",
    "        if j == m: \n",
    "            return i + 1\n",
    "    return -1\n",
    "\n",
    "def main(): \n",
    "    t = input(\"\\n enter the text: \") \n",
    "    print(\"\\n text is:\", t) \n",
    "    p = input(\"\\n enter the pattern: \") \n",
    "    print(\"\\n pattern is:\", p) \n",
    "    pos = naive_string(p, t) \n",
    "    if pos == -1: \n",
    "        print(\"\\n search unsuccessful!!! pattern not found!!!\\n\") \n",
    "    else: \n",
    "        print(\"\\n left most occurrence of pattern in text is at position:\", pos)\n",
    "\n",
    "if __name__ == \"__main__\": \n",
    "    main() "
   ]
  },
  {
   "cell_type": "code",
   "execution_count": null,
   "id": "d7fdf66e",
   "metadata": {},
   "outputs": [],
   "source": []
  },
  {
   "cell_type": "code",
   "execution_count": null,
   "id": "84f42fb7",
   "metadata": {},
   "outputs": [],
   "source": []
  }
 ],
 "metadata": {
  "kernelspec": {
   "display_name": "Python 3 (ipykernel)",
   "language": "python",
   "name": "python3"
  },
  "language_info": {
   "codemirror_mode": {
    "name": "ipython",
    "version": 3
   },
   "file_extension": ".py",
   "mimetype": "text/x-python",
   "name": "python",
   "nbconvert_exporter": "python",
   "pygments_lexer": "ipython3",
   "version": "3.11.3"
  }
 },
 "nbformat": 4,
 "nbformat_minor": 5
}
