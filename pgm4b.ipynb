{
 "cells": [
  {
   "cell_type": "code",
   "execution_count": 1,
   "id": "cc1b4efe",
   "metadata": {},
   "outputs": [
    {
     "name": "stdout",
     "output_type": "stream",
     "text": [
      "\n",
      " enter the pattern: BTLIT\n",
      "\n",
      " enter the text: Arunan in BTLIT\n",
      "\n",
      " the PI[] array is as follows:\n",
      "\n",
      " PI [0]=0\n",
      " PI [1]=0\n",
      " PI [2]=0\n",
      " PI [3]=0\n",
      " PI [4]=0\n",
      "\n",
      " pattern match occurs at location 11\n",
      "\n"
     ]
    }
   ],
   "source": [
    "def main(): \n",
    "    p = input(\"\\n enter the pattern: \") \n",
    "    t = input(\"\\n enter the text: \") \n",
    "    m = len(p) \n",
    "    n = len(t) \n",
    "    pi = [0] * m \n",
    "    k = 0 \n",
    "    flag = 1 \n",
    "    for i in range(1, m): \n",
    "        while k > 0 and p[k] != p[i]: \n",
    "            k = pi[k - 1] \n",
    "        if p[k] == p[i]: \n",
    "            k += 1 \n",
    "        pi[i] = k \n",
    "    print(\"\\n the PI[] array is as follows:\\n\")\n",
    "    for i in range(m): \n",
    "        print(f\" PI [{i}]={pi[i]}\") \n",
    "    k = 0 \n",
    "    for i in range(n): \n",
    "        while k > 0 and p[k] != t[i]: \n",
    "            k = pi[k - 1] \n",
    "        if p[k] == t[i]: \n",
    "            k += 1 \n",
    "        if k == m: \n",
    "            flag = 0 \n",
    "            print(f\"\\n pattern match occurs at location {i - m + 2}\\n\") \n",
    "            k = pi[k - 1] \n",
    "    if flag == 1: \n",
    "        print(\"\\n pattern found!!!\\n\")\n",
    "        \n",
    "if __name__ == \"__main__\": \n",
    "    main() "
   ]
  },
  {
   "cell_type": "code",
   "execution_count": null,
   "id": "05e14ec1",
   "metadata": {},
   "outputs": [],
   "source": []
  },
  {
   "cell_type": "code",
   "execution_count": null,
   "id": "70da783e",
   "metadata": {},
   "outputs": [],
   "source": []
  },
  {
   "cell_type": "code",
   "execution_count": null,
   "id": "42ff02b8",
   "metadata": {},
   "outputs": [],
   "source": []
  }
 ],
 "metadata": {
  "kernelspec": {
   "display_name": "Python 3 (ipykernel)",
   "language": "python",
   "name": "python3"
  },
  "language_info": {
   "codemirror_mode": {
    "name": "ipython",
    "version": 3
   },
   "file_extension": ".py",
   "mimetype": "text/x-python",
   "name": "python",
   "nbconvert_exporter": "python",
   "pygments_lexer": "ipython3",
   "version": "3.11.3"
  }
 },
 "nbformat": 4,
 "nbformat_minor": 5
}
