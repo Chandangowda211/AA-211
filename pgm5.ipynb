{
 "cells": [
  {
   "cell_type": "code",
   "execution_count": 1,
   "id": "2fd9ec81",
   "metadata": {},
   "outputs": [
    {
     "name": "stdout",
     "output_type": "stream",
     "text": [
      "Pattern found at index 0\n",
      "Pattern found at index 9\n",
      "Pattern found at index 13\n"
     ]
    }
   ],
   "source": [
    "import string \n",
    "def getNextState(pat, M, state, x): \n",
    "    if state < M and x == pat[state]: \n",
    "        return state + 1 \n",
    "    ns = state \n",
    "    while ns > 0: \n",
    "        if pat[ns - 1] == x: \n",
    "            for i in range(ns - 1): \n",
    "                if pat[i] != pat[state - ns + 1 + i]: \n",
    "                    break \n",
    "            else: \n",
    "                return ns \n",
    "        ns -= 1 \n",
    "    return 0\n",
    "\n",
    "def computeTF(pat, M, TF): \n",
    "    for state in range(M + 1): \n",
    "        for x in range(256): \n",
    "            TF[state][x] = getNextState(pat, M, state, chr(x))\n",
    "            \n",
    "def search(pat, txt): \n",
    "    M, N = len(pat), len(txt) \n",
    "    TF = [[0 for _ in range(256)] for _ in range(M + 1)] \n",
    "    computeTF(pat, M, TF) \n",
    "    state = 0 \n",
    "    for i in range(N): \n",
    "        state = TF[state][ord(txt[i])]   \n",
    "        if state == M: \n",
    "            print(f\"Pattern found at index {i - M + 1}\")\n",
    "            \n",
    "if __name__ == \"__main__\": \n",
    "    txt = \"AABAACAADAABAAABAA\" \n",
    "    pat = \"AABA\" \n",
    "    search(pat, txt)"
   ]
  },
  {
   "cell_type": "code",
   "execution_count": null,
   "id": "fc5d726e",
   "metadata": {},
   "outputs": [],
   "source": []
  }
 ],
 "metadata": {
  "kernelspec": {
   "display_name": "Python 3 (ipykernel)",
   "language": "python",
   "name": "python3"
  },
  "language_info": {
   "codemirror_mode": {
    "name": "ipython",
    "version": 3
   },
   "file_extension": ".py",
   "mimetype": "text/x-python",
   "name": "python",
   "nbconvert_exporter": "python",
   "pygments_lexer": "ipython3",
   "version": "3.11.3"
  }
 },
 "nbformat": 4,
 "nbformat_minor": 5
}
