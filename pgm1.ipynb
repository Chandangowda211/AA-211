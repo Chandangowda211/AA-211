{
 "cells": [
  {
   "cell_type": "code",
   "execution_count": 1,
   "id": "09574d59",
   "metadata": {},
   "outputs": [
    {
     "name": "stdout",
     "output_type": "stream",
     "text": [
      "Enter the total number of elements: 4\n",
      "Enter the elements to be sorted (space-separated): 3 2 1 5\n",
      "After merge sorting, elements are: 1 2 3 5 \n",
      "Time efficiency is 0.0\n"
     ]
    }
   ],
   "source": [
    "import time \n",
    "MAX = 50 \n",
    "def merge_sort(arr, low, mid, high): \n",
    "    i = low \n",
    "    m = mid + 1 \n",
    "    temp = [0] * MAX \n",
    "    l = low \n",
    "    while l <= mid and m <= high: \n",
    "        if arr[l] <= arr[m]: \n",
    "            temp[i] = arr[l] \n",
    "            l += 1 \n",
    "        else: \n",
    "            temp[i] = arr[m] \n",
    "            m += 1 \n",
    "        i += 1 \n",
    "    if l > mid: \n",
    "        for k in range(m, high + 1): \n",
    "            temp[i] = arr[k] \n",
    "            i += 1 \n",
    "    else: \n",
    "        for k in range(l, mid + 1): \n",
    "            temp[i] = arr[k] \n",
    "            i += 1 \n",
    "    for k in range(low, high + 1): \n",
    "        arr[k] = temp[k] \n",
    "def partition(arr, low, high): \n",
    "    if low < high: \n",
    "        mid = (low + high) // 2 \n",
    "        partition(arr, low, mid) \n",
    "        partition(arr, mid + 1, high) \n",
    "        merge_sort(arr, low, mid, high) \n",
    "def main(): \n",
    "    merge = [0] * MAX \n",
    "    n = int(input(\"Enter the total number of elements: \")) \n",
    "    elements = input(\"Enter the elements to be sorted (space-separated): \").split() \n",
    "    for i in range(n): \n",
    "        merge[i] = int(elements[i]) \n",
    "    start = time.time() \n",
    "    partition(merge, 0, n - 1) \n",
    "    end = time.time() \n",
    "    print(\"After merge sorting, elements are:\", end=' ') \n",
    "    for i in range(n): \n",
    "        print(merge[i], end=' ') \n",
    "    print() \n",
    "    tc = end - start \n",
    "    print(\"Time efficiency is\", tc) \n",
    "if __name__ == \"__main__\": \n",
    "    main()"
   ]
  },
  {
   "cell_type": "code",
   "execution_count": null,
   "id": "b79895b4",
   "metadata": {},
   "outputs": [],
   "source": []
  }
 ],
 "metadata": {
  "kernelspec": {
   "display_name": "Python 3 (ipykernel)",
   "language": "python",
   "name": "python3"
  },
  "language_info": {
   "codemirror_mode": {
    "name": "ipython",
    "version": 3
   },
   "file_extension": ".py",
   "mimetype": "text/x-python",
   "name": "python",
   "nbconvert_exporter": "python",
   "pygments_lexer": "ipython3",
   "version": "3.11.3"
  }
 },
 "nbformat": 4,
 "nbformat_minor": 5
}
